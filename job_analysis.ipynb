{
 "cells": [
  {
   "cell_type": "code",
   "execution_count": 42,
   "id": "382e0d5e-e69c-43a4-bada-7054605ce4f1",
   "metadata": {},
   "outputs": [],
   "source": [
    "import pandas as pd\n",
    "import numpy as np \n",
    "import matplotlib.pyplot as plt\n",
    "import seaborn as sns"
   ]
  },
  {
   "cell_type": "markdown",
   "id": "1157087a-b9d2-4420-aef9-dde2775e1b0f",
   "metadata": {},
   "source": [
    "# Linkedin Canada: Data Science Jobs 2024"
   ]
  },
  {
   "cell_type": "markdown",
   "id": "f5e47186-d349-4897-81ef-662ef747d18b",
   "metadata": {},
   "source": [
    "## Applying the CRISP-DM Life Cycle\n",
    "###  1. Business Understaning\n",
    "###  2. Data Understanding\n",
    "###  2. Data Preparation \n",
    "###  3. Modelling\n",
    "###  4. Evaluation\n",
    "###  5. Deployment"
   ]
  },
  {
   "cell_type": "markdown",
   "id": "cc049e8f-4f10-4738-851d-3bd1d1bd68f8",
   "metadata": {},
   "source": [
    "## Business Understanding\n",
    "\n",
    "#### The dataset is quite niche and focuses on the job market specific to the Data Science Field. The records were collated from Linkedin which is but one out of several job boards; there should be much caution in how the results of this analysis is extrapolated to a larger grouping.\n",
    "\n",
    "#### The Busniess Problem: Is there sufficient supply of candidates for the available Data Science Job?\n",
    "####                       Job offerings are marketed to exclude what is available in the market\n"
   ]
  },
  {
   "cell_type": "markdown",
   "id": "065804b3-5df6-46b5-a3c7-12c5ea329d89",
   "metadata": {},
   "source": [
    "# Data Preparation"
   ]
  },
  {
   "cell_type": "code",
   "execution_count": 43,
   "id": "d9fe5579-f447-4152-ab9f-e74ab3c7c64c",
   "metadata": {
    "tags": []
   },
   "outputs": [],
   "source": [
    "# load data as dataframe"
   ]
  },
  {
   "cell_type": "code",
   "execution_count": 44,
   "id": "2335baea-9f52-4b01-95aa-000b95cf08a9",
   "metadata": {
    "tags": []
   },
   "outputs": [],
   "source": [
    "job_data= pd.read_csv('linkedin_canada.csv')"
   ]
  },
  {
   "cell_type": "code",
   "execution_count": 45,
   "id": "3d42159a-86c6-4d20-81d4-24b55027c758",
   "metadata": {
    "tags": []
   },
   "outputs": [
    {
     "data": {
      "text/html": [
       "<div>\n",
       "<style scoped>\n",
       "    .dataframe tbody tr th:only-of-type {\n",
       "        vertical-align: middle;\n",
       "    }\n",
       "\n",
       "    .dataframe tbody tr th {\n",
       "        vertical-align: top;\n",
       "    }\n",
       "\n",
       "    .dataframe thead th {\n",
       "        text-align: right;\n",
       "    }\n",
       "</style>\n",
       "<table border=\"1\" class=\"dataframe\">\n",
       "  <thead>\n",
       "    <tr style=\"text-align: right;\">\n",
       "      <th></th>\n",
       "      <th>applicationsCount</th>\n",
       "      <th>companyId</th>\n",
       "      <th>companyName</th>\n",
       "      <th>contractType</th>\n",
       "      <th>description</th>\n",
       "      <th>experienceLevel</th>\n",
       "      <th>location</th>\n",
       "      <th>postedTime</th>\n",
       "      <th>publishedAt</th>\n",
       "      <th>salary</th>\n",
       "      <th>sector</th>\n",
       "      <th>title</th>\n",
       "      <th>workType</th>\n",
       "    </tr>\n",
       "  </thead>\n",
       "  <tbody>\n",
       "    <tr>\n",
       "      <th>0</th>\n",
       "      <td>Over 200 applicants</td>\n",
       "      <td>11000395.0</td>\n",
       "      <td>Embarq</td>\n",
       "      <td>Full-time</td>\n",
       "      <td>About Embarq\\n\\nWe help VC-backed US startups ...</td>\n",
       "      <td>Mid-Senior level</td>\n",
       "      <td>Quebec, Canada</td>\n",
       "      <td>2 weeks ago</td>\n",
       "      <td>2024-01-05</td>\n",
       "      <td>NaN</td>\n",
       "      <td>IT Services and IT Consulting and Software Dev...</td>\n",
       "      <td>Machine Learning Engineer</td>\n",
       "      <td>Engineering and Information Technology</td>\n",
       "    </tr>\n",
       "    <tr>\n",
       "      <th>1</th>\n",
       "      <td>Over 200 applicants</td>\n",
       "      <td>912833.0</td>\n",
       "      <td>Thumbtack</td>\n",
       "      <td>Full-time</td>\n",
       "      <td>A home is the biggest investment most people m...</td>\n",
       "      <td>Not Applicable</td>\n",
       "      <td>Ontario, Canada</td>\n",
       "      <td>2 weeks ago</td>\n",
       "      <td>2024-01-05</td>\n",
       "      <td>NaN</td>\n",
       "      <td>Technology, Information and Internet</td>\n",
       "      <td>Data Scientist, Business Analytics</td>\n",
       "      <td>Engineering and Information Technology</td>\n",
       "    </tr>\n",
       "    <tr>\n",
       "      <th>2</th>\n",
       "      <td>Over 200 applicants</td>\n",
       "      <td>10064814.0</td>\n",
       "      <td>Clarifai</td>\n",
       "      <td>Full-time</td>\n",
       "      <td>About The Company\\n\\nClarifai is a leading, fu...</td>\n",
       "      <td>Mid-Senior level</td>\n",
       "      <td>Montreal, Quebec, Canada</td>\n",
       "      <td>4 months ago</td>\n",
       "      <td>2023-09-15</td>\n",
       "      <td>NaN</td>\n",
       "      <td>Technology, Information and Internet</td>\n",
       "      <td>Data Scientist</td>\n",
       "      <td>Engineering and Information Technology</td>\n",
       "    </tr>\n",
       "  </tbody>\n",
       "</table>\n",
       "</div>"
      ],
      "text/plain": [
       "     applicationsCount   companyId companyName contractType  \\\n",
       "0  Over 200 applicants  11000395.0      Embarq    Full-time   \n",
       "1  Over 200 applicants    912833.0   Thumbtack    Full-time   \n",
       "2  Over 200 applicants  10064814.0    Clarifai    Full-time   \n",
       "\n",
       "                                         description   experienceLevel  \\\n",
       "0  About Embarq\\n\\nWe help VC-backed US startups ...  Mid-Senior level   \n",
       "1  A home is the biggest investment most people m...    Not Applicable   \n",
       "2  About The Company\\n\\nClarifai is a leading, fu...  Mid-Senior level   \n",
       "\n",
       "                   location    postedTime publishedAt salary  \\\n",
       "0            Quebec, Canada   2 weeks ago  2024-01-05    NaN   \n",
       "1           Ontario, Canada   2 weeks ago  2024-01-05    NaN   \n",
       "2  Montreal, Quebec, Canada  4 months ago  2023-09-15    NaN   \n",
       "\n",
       "                                              sector  \\\n",
       "0  IT Services and IT Consulting and Software Dev...   \n",
       "1               Technology, Information and Internet   \n",
       "2               Technology, Information and Internet   \n",
       "\n",
       "                                title                                workType  \n",
       "0           Machine Learning Engineer  Engineering and Information Technology  \n",
       "1  Data Scientist, Business Analytics  Engineering and Information Technology  \n",
       "2                      Data Scientist  Engineering and Information Technology  "
      ]
     },
     "execution_count": 45,
     "metadata": {},
     "output_type": "execute_result"
    }
   ],
   "source": [
    "#preview dataframe (df)\n",
    "\n",
    "job_data.head(3)"
   ]
  },
  {
   "cell_type": "code",
   "execution_count": 46,
   "id": "8566ee9a-4bc3-495a-ad9d-1fea01d7db32",
   "metadata": {
    "tags": []
   },
   "outputs": [
    {
     "data": {
      "text/plain": [
       "3575"
      ]
     },
     "execution_count": 46,
     "metadata": {},
     "output_type": "execute_result"
    }
   ],
   "source": [
    "#check size of df (records x columns (features x attributes)\n",
    "job_data.size"
   ]
  },
  {
   "cell_type": "code",
   "execution_count": 47,
   "id": "8409ef14-628e-4da1-a933-551843c33098",
   "metadata": {
    "tags": []
   },
   "outputs": [
    {
     "data": {
      "text/plain": [
       "(275, 13)"
      ]
     },
     "execution_count": 47,
     "metadata": {},
     "output_type": "execute_result"
    }
   ],
   "source": [
    "#shape of df\n",
    "job_data.shape"
   ]
  },
  {
   "cell_type": "code",
   "execution_count": 48,
   "id": "87089166-186b-417d-a5da-3b182afa0164",
   "metadata": {
    "tags": []
   },
   "outputs": [
    {
     "name": "stdout",
     "output_type": "stream",
     "text": [
      "<class 'pandas.core.frame.DataFrame'>\n",
      "RangeIndex: 275 entries, 0 to 274\n",
      "Data columns (total 13 columns):\n",
      " #   Column             Non-Null Count  Dtype  \n",
      "---  ------             --------------  -----  \n",
      " 0   applicationsCount  275 non-null    object \n",
      " 1   companyId          274 non-null    float64\n",
      " 2   companyName        274 non-null    object \n",
      " 3   contractType       264 non-null    object \n",
      " 4   description        275 non-null    object \n",
      " 5   experienceLevel    275 non-null    object \n",
      " 6   location           275 non-null    object \n",
      " 7   postedTime         275 non-null    object \n",
      " 8   publishedAt        270 non-null    object \n",
      " 9   salary             13 non-null     object \n",
      " 10  sector             264 non-null    object \n",
      " 11  title              275 non-null    object \n",
      " 12  workType           264 non-null    object \n",
      "dtypes: float64(1), object(12)\n",
      "memory usage: 28.1+ KB\n"
     ]
    }
   ],
   "source": [
    "#General info on df\n",
    "job_data.info()"
   ]
  },
  {
   "cell_type": "code",
   "execution_count": 49,
   "id": "0d6a2da1-cc32-442f-99ed-eb103454d6c0",
   "metadata": {
    "tags": []
   },
   "outputs": [
    {
     "data": {
      "text/plain": [
       "applicationsCount      0\n",
       "companyId              1\n",
       "companyName            1\n",
       "contractType          11\n",
       "description            0\n",
       "experienceLevel        0\n",
       "location               0\n",
       "postedTime             0\n",
       "publishedAt            5\n",
       "salary               262\n",
       "sector                11\n",
       "title                  0\n",
       "workType              11\n",
       "dtype: int64"
      ]
     },
     "execution_count": 49,
     "metadata": {},
     "output_type": "execute_result"
    }
   ],
   "source": [
    "#check for empty values\n",
    "\n",
    "job_data.isnull().sum()"
   ]
  },
  {
   "cell_type": "code",
   "execution_count": 50,
   "id": "1574b1b4-5726-4157-9eff-913dfa637f64",
   "metadata": {
    "tags": []
   },
   "outputs": [
    {
     "data": {
      "text/html": [
       "<div>\n",
       "<style scoped>\n",
       "    .dataframe tbody tr th:only-of-type {\n",
       "        vertical-align: middle;\n",
       "    }\n",
       "\n",
       "    .dataframe tbody tr th {\n",
       "        vertical-align: top;\n",
       "    }\n",
       "\n",
       "    .dataframe thead th {\n",
       "        text-align: right;\n",
       "    }\n",
       "</style>\n",
       "<table border=\"1\" class=\"dataframe\">\n",
       "  <thead>\n",
       "    <tr style=\"text-align: right;\">\n",
       "      <th></th>\n",
       "      <th>applicationsCount</th>\n",
       "      <th>companyId</th>\n",
       "      <th>companyName</th>\n",
       "      <th>contractType</th>\n",
       "      <th>description</th>\n",
       "      <th>experienceLevel</th>\n",
       "      <th>location</th>\n",
       "      <th>postedTime</th>\n",
       "      <th>publishedAt</th>\n",
       "      <th>salary</th>\n",
       "      <th>sector</th>\n",
       "      <th>title</th>\n",
       "      <th>workType</th>\n",
       "    </tr>\n",
       "  </thead>\n",
       "  <tbody>\n",
       "    <tr>\n",
       "      <th>270</th>\n",
       "      <td>Over 200 applicants</td>\n",
       "      <td>5045143.0</td>\n",
       "      <td>StackAdapt</td>\n",
       "      <td>Full-time</td>\n",
       "      <td>StackAdapt is a self-serve advertising platfor...</td>\n",
       "      <td>Entry level</td>\n",
       "      <td>Canada</td>\n",
       "      <td>1 week ago</td>\n",
       "      <td>2024-01-11</td>\n",
       "      <td>NaN</td>\n",
       "      <td>Technology, Information and Internet</td>\n",
       "      <td>Software Engineer, Backend (Intermediate/Senior)</td>\n",
       "      <td>Engineering and Information Technology</td>\n",
       "    </tr>\n",
       "    <tr>\n",
       "      <th>271</th>\n",
       "      <td>45 applicants</td>\n",
       "      <td>14051.0</td>\n",
       "      <td>Kinaxis</td>\n",
       "      <td>Full-time</td>\n",
       "      <td>About Kinaxis\\n\\nKinaxis is the global leader ...</td>\n",
       "      <td>Internship</td>\n",
       "      <td>Québec, Quebec, Canada</td>\n",
       "      <td>1 week ago</td>\n",
       "      <td>2024-01-13</td>\n",
       "      <td>NaN</td>\n",
       "      <td>Software Development</td>\n",
       "      <td>Co-Op/Intern Developer, DevOps</td>\n",
       "      <td>Engineering and Information Technology</td>\n",
       "    </tr>\n",
       "    <tr>\n",
       "      <th>272</th>\n",
       "      <td>Over 200 applicants</td>\n",
       "      <td>93075952.0</td>\n",
       "      <td>Saks</td>\n",
       "      <td>Full-time</td>\n",
       "      <td>Who We Are:\\n\\nSaks Cloud Services (SCS) is an...</td>\n",
       "      <td>Associate</td>\n",
       "      <td>Canada</td>\n",
       "      <td>2 weeks ago</td>\n",
       "      <td>2024-01-04</td>\n",
       "      <td>NaN</td>\n",
       "      <td>Software Development</td>\n",
       "      <td>Atlassian Systems Engineer</td>\n",
       "      <td>Information Technology</td>\n",
       "    </tr>\n",
       "    <tr>\n",
       "      <th>273</th>\n",
       "      <td>57 applicants</td>\n",
       "      <td>14051.0</td>\n",
       "      <td>Kinaxis</td>\n",
       "      <td>Full-time</td>\n",
       "      <td>About Kinaxis\\n\\nKinaxis is the global leader ...</td>\n",
       "      <td>Internship</td>\n",
       "      <td>Waterloo, Ontario, Canada</td>\n",
       "      <td>1 week ago</td>\n",
       "      <td>2024-01-13</td>\n",
       "      <td>NaN</td>\n",
       "      <td>Software Development</td>\n",
       "      <td>Co-Op/Intern Developer, DevOps</td>\n",
       "      <td>Engineering and Information Technology</td>\n",
       "    </tr>\n",
       "    <tr>\n",
       "      <th>274</th>\n",
       "      <td>Be among the first 25 applicants</td>\n",
       "      <td>NaN</td>\n",
       "      <td>NaN</td>\n",
       "      <td>NaN</td>\n",
       "      <td>Job responsibilities\\n\\n * Design &amp; build scal...</td>\n",
       "      <td>Contract</td>\n",
       "      <td>British Columbia, Canada</td>\n",
       "      <td>1 week ago</td>\n",
       "      <td>2024-01-13</td>\n",
       "      <td>NaN</td>\n",
       "      <td>NaN</td>\n",
       "      <td>Senior React Developer</td>\n",
       "      <td>NaN</td>\n",
       "    </tr>\n",
       "  </tbody>\n",
       "</table>\n",
       "</div>"
      ],
      "text/plain": [
       "                    applicationsCount   companyId companyName contractType  \\\n",
       "270               Over 200 applicants   5045143.0  StackAdapt    Full-time   \n",
       "271                     45 applicants     14051.0     Kinaxis    Full-time   \n",
       "272               Over 200 applicants  93075952.0        Saks    Full-time   \n",
       "273                     57 applicants     14051.0     Kinaxis    Full-time   \n",
       "274  Be among the first 25 applicants         NaN         NaN          NaN   \n",
       "\n",
       "                                           description experienceLevel  \\\n",
       "270  StackAdapt is a self-serve advertising platfor...     Entry level   \n",
       "271  About Kinaxis\\n\\nKinaxis is the global leader ...      Internship   \n",
       "272  Who We Are:\\n\\nSaks Cloud Services (SCS) is an...       Associate   \n",
       "273  About Kinaxis\\n\\nKinaxis is the global leader ...      Internship   \n",
       "274  Job responsibilities\\n\\n * Design & build scal...        Contract   \n",
       "\n",
       "                      location   postedTime publishedAt salary  \\\n",
       "270                     Canada   1 week ago  2024-01-11    NaN   \n",
       "271     Québec, Quebec, Canada   1 week ago  2024-01-13    NaN   \n",
       "272                     Canada  2 weeks ago  2024-01-04    NaN   \n",
       "273  Waterloo, Ontario, Canada   1 week ago  2024-01-13    NaN   \n",
       "274   British Columbia, Canada   1 week ago  2024-01-13    NaN   \n",
       "\n",
       "                                   sector  \\\n",
       "270  Technology, Information and Internet   \n",
       "271                  Software Development   \n",
       "272                  Software Development   \n",
       "273                  Software Development   \n",
       "274                                   NaN   \n",
       "\n",
       "                                                title  \\\n",
       "270  Software Engineer, Backend (Intermediate/Senior)   \n",
       "271                    Co-Op/Intern Developer, DevOps   \n",
       "272                        Atlassian Systems Engineer   \n",
       "273                    Co-Op/Intern Developer, DevOps   \n",
       "274                            Senior React Developer   \n",
       "\n",
       "                                   workType  \n",
       "270  Engineering and Information Technology  \n",
       "271  Engineering and Information Technology  \n",
       "272                  Information Technology  \n",
       "273  Engineering and Information Technology  \n",
       "274                                     NaN  "
      ]
     },
     "execution_count": 50,
     "metadata": {},
     "output_type": "execute_result"
    }
   ],
   "source": [
    "job_data.tail(5\n",
    "             )"
   ]
  },
  {
   "cell_type": "code",
   "execution_count": 51,
   "id": "7e0c354a-854d-4133-86fe-b37f0965f78e",
   "metadata": {
    "tags": []
   },
   "outputs": [
    {
     "data": {
      "text/plain": [
       "applicationsCount     85\n",
       "companyId            160\n",
       "companyName          160\n",
       "contractType           4\n",
       "description          236\n",
       "experienceLevel        8\n",
       "location              34\n",
       "postedTime            19\n",
       "publishedAt           78\n",
       "salary                11\n",
       "sector                48\n",
       "title                215\n",
       "workType              21\n",
       "dtype: int64"
      ]
     },
     "execution_count": 51,
     "metadata": {},
     "output_type": "execute_result"
    }
   ],
   "source": [
    "#check for unique values\n",
    "job_data.nunique()"
   ]
  },
  {
   "cell_type": "code",
   "execution_count": 52,
   "id": "c727b195-b21f-4671-8609-832cae65e176",
   "metadata": {
    "tags": []
   },
   "outputs": [
    {
     "data": {
      "text/plain": [
       "array([nan, 'CA$70,000.00-CA$120,000.00', 'CA$110,000.00-CA$140,000.00',\n",
       "       'CA$250,000.00-CA$275,000.00', 'CA$80,000.00-CA$100,000.00',\n",
       "       'CA$140,000.00-CA$180,000.00', 'CA$80,000.00-CA$150,000.00',\n",
       "       'CA$120,000.00-CA$160,000.00', 'CA$100,000.00-CA$165,000.00',\n",
       "       'CA$85,000.00-CA$175,000.00', 'CA$80,000.00-CA$90,000.00',\n",
       "       'CA$70,000.00-CA$90,000.00'], dtype=object)"
      ]
     },
     "execution_count": 52,
     "metadata": {},
     "output_type": "execute_result"
    }
   ],
   "source": [
    "#Check salary column for unique values\n",
    "job_data.salary.unique()"
   ]
  },
  {
   "cell_type": "markdown",
   "id": "0433682a-5682-4eb8-bb23-951ceb20876f",
   "metadata": {},
   "source": [
    "#### Based on the presentation of the data in salary, one thought was to seperate the column into a lower salary and upper salary range. However considering there are only 4% of records in this attribute (not statistically significant), it may prove prudent to drop the column."
   ]
  },
  {
   "cell_type": "code",
   "execution_count": 53,
   "id": "fdbfa1e3-142d-42d1-8c8e-00bb2fd3c123",
   "metadata": {
    "tags": []
   },
   "outputs": [
    {
     "data": {
      "text/plain": [
       "array(['Over 200 applicants', '146 applicants', '61 applicants',\n",
       "       '143 applicants', '43 applicants', '33 applicants',\n",
       "       '132 applicants', '114 applicants', '182 applicants',\n",
       "       '72 applicants', '34 applicants', '142 applicants',\n",
       "       '167 applicants', '28 applicants', '86 applicants',\n",
       "       '64 applicants', '103 applicants', '29 applicants',\n",
       "       '63 applicants', 'Be among the first 25 applicants',\n",
       "       '134 applicants', '66 applicants', '102 applicants',\n",
       "       '98 applicants', '188 applicants', '113 applicants',\n",
       "       '107 applicants', '161 applicants', '118 applicants',\n",
       "       '180 applicants', '51 applicants', '178 applicants',\n",
       "       '100 applicants', '92 applicants', '131 applicants',\n",
       "       '117 applicants', '125 applicants', '124 applicants',\n",
       "       '116 applicants', '176 applicants', '112 applicants',\n",
       "       '109 applicants', '149 applicants', '190 applicants',\n",
       "       '30 applicants', '94 applicants', '62 applicants',\n",
       "       '139 applicants', '68 applicants', '87 applicants',\n",
       "       '32 applicants', '121 applicants', '74 applicants',\n",
       "       '105 applicants', '119 applicants', '157 applicants',\n",
       "       '49 applicants', '151 applicants', '25 applicants',\n",
       "       '95 applicants', '78 applicants', '108 applicants',\n",
       "       '152 applicants', '197 applicants', '194 applicants',\n",
       "       '110 applicants', '168 applicants', '99 applicants',\n",
       "       '196 applicants', '38 applicants', '39 applicants',\n",
       "       '45 applicants', '104 applicants', '93 applicants',\n",
       "       '69 applicants', '55 applicants', '41 applicants',\n",
       "       '136 applicants', '48 applicants', '35 applicants',\n",
       "       '90 applicants', '163 applicants', '82 applicants',\n",
       "       '83 applicants', '57 applicants'], dtype=object)"
      ]
     },
     "execution_count": 53,
     "metadata": {},
     "output_type": "execute_result"
    }
   ],
   "source": [
    "#Check applicationsCount column for unique values\n",
    "job_data.applicationsCount.unique()"
   ]
  },
  {
   "cell_type": "code",
   "execution_count": 62,
   "id": "a9d6bbfc-c9a8-45eb-ae19-14b2e1dd4d00",
   "metadata": {
    "tags": []
   },
   "outputs": [
    {
     "data": {
      "text/plain": [
       "applicationsCount\n",
       "Over 200 applicants                 120\n",
       "Be among the first 25 applicants     38\n",
       "34 applicants                         4\n",
       "33 applicants                         3\n",
       "45 applicants                         3\n",
       "                                   ... \n",
       "139 applicants                        1\n",
       "68 applicants                         1\n",
       "32 applicants                         1\n",
       "121 applicants                        1\n",
       "57 applicants                         1\n",
       "Name: count, Length: 85, dtype: int64"
      ]
     },
     "execution_count": 62,
     "metadata": {},
     "output_type": "execute_result"
    }
   ],
   "source": [
    "#check number of values \n",
    "job_data.applicationsCount.value_counts()"
   ]
  },
  {
   "cell_type": "markdown",
   "id": "7813a518-d876-4f4e-b754-7ea803e366c1",
   "metadata": {},
   "source": [
    "#### ApplicationsCount column will be converted to a categorical column; the categories are\n",
    "#### > 200,<=200, <=175, <=150, <=125, <=100, <=75, <=50, <=25"
   ]
  },
  {
   "cell_type": "code",
   "execution_count": 54,
   "id": "49d396e6-7efd-4d1d-9e03-6eac795ba880",
   "metadata": {
    "tags": []
   },
   "outputs": [
    {
     "data": {
      "text/plain": [
       "array(['Full-time', 'Contract', nan, 'Part-time', 'Internship'],\n",
       "      dtype=object)"
      ]
     },
     "execution_count": 54,
     "metadata": {},
     "output_type": "execute_result"
    }
   ],
   "source": [
    "#Check contractType column for unique values\n",
    "job_data.contractType.unique()"
   ]
  },
  {
   "cell_type": "markdown",
   "id": "b73d18c6-7b14-40fa-8f89-d59d408cee14",
   "metadata": {},
   "source": [
    "#### contractType will be converted to categorical; only a small number of different values; should result in less memory used\n",
    "#### for the empty value will change to \"not diclosed\""
   ]
  },
  {
   "cell_type": "code",
   "execution_count": 55,
   "id": "31f59a89-6f5e-4255-8e4e-6b5ccc7dd95d",
   "metadata": {
    "tags": []
   },
   "outputs": [
    {
     "data": {
      "text/plain": [
       "array(['Mid-Senior level', 'Not Applicable', 'Entry level', 'Associate',\n",
       "       'Full-time', 'Contract', 'Internship', 'Part-time'], dtype=object)"
      ]
     },
     "execution_count": 55,
     "metadata": {},
     "output_type": "execute_result"
    }
   ],
   "source": [
    "#Check experienceLevel column for unique values\n",
    "job_data.experienceLevel.unique()"
   ]
  },
  {
   "cell_type": "markdown",
   "id": "6f7937cb-1a9d-4ae7-93f3-cb34223ef8c4",
   "metadata": {},
   "source": [
    "#### Similar to contractType, experienceLevel will be converted to categorical"
   ]
  },
  {
   "cell_type": "markdown",
   "id": "3d3a1fbb-fa73-4958-9fdd-ee204a830f03",
   "metadata": {
    "tags": []
   },
   "source": [
    "#### From a visual look at \"location\", the attribute will not be changed from object/str. However, the data currently captures City,province, Country. It may serve best to disaggregate into city, province and Country. Where there is no province or city provided the following phrase will be used \"not stated\"."
   ]
  },
  {
   "cell_type": "code",
   "execution_count": 56,
   "id": "5cbc33b9-6a74-4b5c-be2d-47e152924fb2",
   "metadata": {
    "tags": []
   },
   "outputs": [
    {
     "data": {
      "text/plain": [
       "array(['2 weeks ago', '4 months ago', '2 months ago', '19 hours ago',\n",
       "       '1 week ago', '2 days ago', '1 month ago', '15 hours ago',\n",
       "       '3 months ago', '5 months ago', '4 weeks ago', '4 days ago',\n",
       "       '3 days ago', '1 day ago', '3 weeks ago', '9 months ago',\n",
       "       '6 months ago', '7 months ago', '5 days ago'], dtype=object)"
      ]
     },
     "execution_count": 56,
     "metadata": {},
     "output_type": "execute_result"
    }
   ],
   "source": [
    "#Check postedTime column for unique values\n",
    "job_data.postedTime.unique()"
   ]
  },
  {
   "cell_type": "markdown",
   "id": "dbda8b8f-6734-4caa-82bc-076bcd550b45",
   "metadata": {},
   "source": [
    "#### postedTime will convert to categorical; 1 months ago, 2 months ago, 3 months ago, 4 months ago, 5 months ago, 6 months ago, 7 months ago, 9 months ago"
   ]
  },
  {
   "cell_type": "code",
   "execution_count": 57,
   "id": "090cd477-db90-4cbd-9609-913fa20826b6",
   "metadata": {
    "tags": []
   },
   "outputs": [
    {
     "data": {
      "text/plain": [
       "array(['Engineering and Information Technology', 'Engineering',\n",
       "       'Information Technology', 'Other', nan,\n",
       "       'Information Technology and Engineering',\n",
       "       'General Business, Research, and Project Management', 'Consulting',\n",
       "       'Information Technology, Accounting/Auditing, and General Business',\n",
       "       'Information Technology and Strategy/Planning',\n",
       "       'Information Technology and Product Management',\n",
       "       'Information Technology and Management',\n",
       "       'Business Development and Sales',\n",
       "       'Customer Service and Engineering',\n",
       "       'Marketing and Information Technology', 'Quality Assurance',\n",
       "       'Information Technology and Research',\n",
       "       'Art/Creative and Information Technology', 'Finance',\n",
       "       'Education, Engineering, and Marketing',\n",
       "       'Research, Analyst, and Information Technology',\n",
       "       'Engineering, Information Technology, and Consulting'],\n",
       "      dtype=object)"
      ]
     },
     "execution_count": 57,
     "metadata": {},
     "output_type": "execute_result"
    }
   ],
   "source": [
    "#Check workType column for unique values\n",
    "job_data.workType.unique()"
   ]
  },
  {
   "cell_type": "markdown",
   "id": "35435e19-344d-4be0-8fdd-00ff864c185e",
   "metadata": {},
   "source": [
    "#### workType no changes to be made to this column as well as title, sector and description(for now)"
   ]
  },
  {
   "cell_type": "code",
   "execution_count": 58,
   "id": "b9c8302d-aea9-408f-89ae-5192ff43bdbb",
   "metadata": {
    "tags": []
   },
   "outputs": [
    {
     "name": "stdout",
     "output_type": "stream",
     "text": [
      "applicationsCount     object\n",
      "companyId            float64\n",
      "companyName           object\n",
      "contractType          object\n",
      "description           object\n",
      "experienceLevel       object\n",
      "location              object\n",
      "postedTime            object\n",
      "publishedAt           object\n",
      "salary                object\n",
      "sector                object\n",
      "title                 object\n",
      "workType              object\n",
      "dtype: object\n"
     ]
    }
   ],
   "source": [
    "#check data types in df; note this was implicitly done when .info() was called.\n",
    "print(job_data.dtypes)"
   ]
  },
  {
   "cell_type": "markdown",
   "id": "7d0db572-9ff8-48c1-b13a-913c69a5e7fe",
   "metadata": {},
   "source": []
  },
  {
   "cell_type": "code",
   "execution_count": 59,
   "id": "a0a70f4b-35ee-4a01-99c4-08c57405f89b",
   "metadata": {
    "tags": []
   },
   "outputs": [],
   "source": [
    "# Drop the column/attribute \"salary\"\n",
    "job_data.drop(columns=['salary'], inplace= True)\n"
   ]
  },
  {
   "cell_type": "code",
   "execution_count": 61,
   "id": "0922ee26-c59d-447d-9135-d55b7af6e074",
   "metadata": {
    "tags": []
   },
   "outputs": [
    {
     "data": {
      "text/plain": [
       "Index(['applicationsCount', 'companyId', 'companyName', 'contractType',\n",
       "       'description', 'experienceLevel', 'location', 'postedTime',\n",
       "       'publishedAt', 'sector', 'title', 'workType'],\n",
       "      dtype='object')"
      ]
     },
     "execution_count": 61,
     "metadata": {},
     "output_type": "execute_result"
    }
   ],
   "source": [
    "#checking that salary was removed.\n",
    "job_data.columns"
   ]
  },
  {
   "cell_type": "code",
   "execution_count": 67,
   "id": "74fef392-e04d-4fa5-b0e5-230d3d3fc79b",
   "metadata": {
    "tags": []
   },
   "outputs": [],
   "source": [
    "#Remove all letters from applicationsCount; this will allow us to conver to int and then bin\n",
    "job_data['applicationsCount'] = job_data['applicationsCount'].str.replace('\\D',\"\",regex= True)\n"
   ]
  },
  {
   "cell_type": "code",
   "execution_count": 71,
   "id": "699b1d4c-f8d4-48c6-b2ba-8cb75c7e6885",
   "metadata": {
    "tags": []
   },
   "outputs": [
    {
     "data": {
      "text/html": [
       "<div>\n",
       "<style scoped>\n",
       "    .dataframe tbody tr th:only-of-type {\n",
       "        vertical-align: middle;\n",
       "    }\n",
       "\n",
       "    .dataframe tbody tr th {\n",
       "        vertical-align: top;\n",
       "    }\n",
       "\n",
       "    .dataframe thead th {\n",
       "        text-align: right;\n",
       "    }\n",
       "</style>\n",
       "<table border=\"1\" class=\"dataframe\">\n",
       "  <thead>\n",
       "    <tr style=\"text-align: right;\">\n",
       "      <th></th>\n",
       "      <th>applicationsCount</th>\n",
       "    </tr>\n",
       "  </thead>\n",
       "  <tbody>\n",
       "    <tr>\n",
       "      <th>0</th>\n",
       "      <td>200</td>\n",
       "    </tr>\n",
       "    <tr>\n",
       "      <th>1</th>\n",
       "      <td>200</td>\n",
       "    </tr>\n",
       "    <tr>\n",
       "      <th>2</th>\n",
       "      <td>200</td>\n",
       "    </tr>\n",
       "    <tr>\n",
       "      <th>3</th>\n",
       "      <td>200</td>\n",
       "    </tr>\n",
       "    <tr>\n",
       "      <th>4</th>\n",
       "      <td>200</td>\n",
       "    </tr>\n",
       "    <tr>\n",
       "      <th>...</th>\n",
       "      <td>...</td>\n",
       "    </tr>\n",
       "    <tr>\n",
       "      <th>270</th>\n",
       "      <td>200</td>\n",
       "    </tr>\n",
       "    <tr>\n",
       "      <th>271</th>\n",
       "      <td>45</td>\n",
       "    </tr>\n",
       "    <tr>\n",
       "      <th>272</th>\n",
       "      <td>200</td>\n",
       "    </tr>\n",
       "    <tr>\n",
       "      <th>273</th>\n",
       "      <td>57</td>\n",
       "    </tr>\n",
       "    <tr>\n",
       "      <th>274</th>\n",
       "      <td>25</td>\n",
       "    </tr>\n",
       "  </tbody>\n",
       "</table>\n",
       "<p>275 rows × 1 columns</p>\n",
       "</div>"
      ],
      "text/plain": [
       "    applicationsCount\n",
       "0                 200\n",
       "1                 200\n",
       "2                 200\n",
       "3                 200\n",
       "4                 200\n",
       "..                ...\n",
       "270               200\n",
       "271                45\n",
       "272               200\n",
       "273                57\n",
       "274                25\n",
       "\n",
       "[275 rows x 1 columns]"
      ]
     },
     "execution_count": 71,
     "metadata": {},
     "output_type": "execute_result"
    }
   ],
   "source": [
    "job_data[['applicationsCount']]"
   ]
  },
  {
   "cell_type": "code",
   "execution_count": 72,
   "id": "b4d450bf-bd2b-4ac3-abd4-d5dd8c93cd25",
   "metadata": {
    "tags": []
   },
   "outputs": [],
   "source": [
    "#convert applicationsCount to int data type\n",
    "job_data['applicationsCount'] = job_data['applicationsCount'].astype(int)"
   ]
  },
  {
   "cell_type": "code",
   "execution_count": 73,
   "id": "72e7c953-8215-4ee3-ba8b-83716a4c3b9f",
   "metadata": {
    "tags": []
   },
   "outputs": [
    {
     "data": {
      "text/plain": [
       "dtype('int32')"
      ]
     },
     "execution_count": 73,
     "metadata": {},
     "output_type": "execute_result"
    }
   ],
   "source": [
    "job_data['applicationsCount'].dtypes"
   ]
  },
  {
   "cell_type": "code",
   "execution_count": 84,
   "id": "0b315e39-7036-4381-ba15-1079c199f6fb",
   "metadata": {
    "tags": []
   },
   "outputs": [],
   "source": [
    "#Binning numerical variables for applicationsCount\n",
    "job_data.loc[job_data['applicationsCount'].between(0, 25, 'both'), 'Num_Applicants'] = '<=25'\n",
    "job_data.loc[job_data['applicationsCount'].between(25, 50, 'right'), 'Num_Applicants'] = '<=50'\n",
    "job_data.loc[job_data['applicationsCount'].between(50, 75, 'right'), 'Num_Applicants'] = '<=75'\n",
    "job_data.loc[job_data['applicationsCount'].between(75, 100, 'right'), 'Num_Applicants'] = '<=100'\n",
    "job_data.loc[job_data['applicationsCount'].between(100, 125, 'right'), 'Num_Applicants'] = '<=125'\n",
    "job_data.loc[job_data['applicationsCount'].between(125, 150, 'right'), 'Num_Applicants'] = '<=150'\n",
    "job_data.loc[job_data['applicationsCount'].between(150, 175, 'right'), 'Num_Applicants'] = '<=175'\n",
    "job_data.loc[job_data['applicationsCount'].between(175, 200, 'left'), 'Num_Applicants'] = '<=200'\n",
    "job_data.loc[job_data['applicationsCount'].between(200,500,  'left'), 'Num_Applicants'] = '>200'\n"
   ]
  },
  {
   "cell_type": "code",
   "execution_count": 85,
   "id": "27a6f0b2-a1ad-43e2-a393-906481d5f8a6",
   "metadata": {
    "tags": []
   },
   "outputs": [
    {
     "data": {
      "text/html": [
       "<div>\n",
       "<style scoped>\n",
       "    .dataframe tbody tr th:only-of-type {\n",
       "        vertical-align: middle;\n",
       "    }\n",
       "\n",
       "    .dataframe tbody tr th {\n",
       "        vertical-align: top;\n",
       "    }\n",
       "\n",
       "    .dataframe thead th {\n",
       "        text-align: right;\n",
       "    }\n",
       "</style>\n",
       "<table border=\"1\" class=\"dataframe\">\n",
       "  <thead>\n",
       "    <tr style=\"text-align: right;\">\n",
       "      <th></th>\n",
       "      <th>applicationsCount</th>\n",
       "      <th>Num_Applicants</th>\n",
       "    </tr>\n",
       "  </thead>\n",
       "  <tbody>\n",
       "    <tr>\n",
       "      <th>0</th>\n",
       "      <td>200</td>\n",
       "      <td>&gt;200</td>\n",
       "    </tr>\n",
       "    <tr>\n",
       "      <th>1</th>\n",
       "      <td>200</td>\n",
       "      <td>&gt;200</td>\n",
       "    </tr>\n",
       "    <tr>\n",
       "      <th>2</th>\n",
       "      <td>200</td>\n",
       "      <td>&gt;200</td>\n",
       "    </tr>\n",
       "    <tr>\n",
       "      <th>3</th>\n",
       "      <td>200</td>\n",
       "      <td>&gt;200</td>\n",
       "    </tr>\n",
       "    <tr>\n",
       "      <th>4</th>\n",
       "      <td>200</td>\n",
       "      <td>&gt;200</td>\n",
       "    </tr>\n",
       "    <tr>\n",
       "      <th>...</th>\n",
       "      <td>...</td>\n",
       "      <td>...</td>\n",
       "    </tr>\n",
       "    <tr>\n",
       "      <th>270</th>\n",
       "      <td>200</td>\n",
       "      <td>&gt;200</td>\n",
       "    </tr>\n",
       "    <tr>\n",
       "      <th>271</th>\n",
       "      <td>45</td>\n",
       "      <td>&lt;=50</td>\n",
       "    </tr>\n",
       "    <tr>\n",
       "      <th>272</th>\n",
       "      <td>200</td>\n",
       "      <td>&gt;200</td>\n",
       "    </tr>\n",
       "    <tr>\n",
       "      <th>273</th>\n",
       "      <td>57</td>\n",
       "      <td>&lt;=75</td>\n",
       "    </tr>\n",
       "    <tr>\n",
       "      <th>274</th>\n",
       "      <td>25</td>\n",
       "      <td>&lt;=25</td>\n",
       "    </tr>\n",
       "  </tbody>\n",
       "</table>\n",
       "<p>275 rows × 2 columns</p>\n",
       "</div>"
      ],
      "text/plain": [
       "     applicationsCount Num_Applicants\n",
       "0                  200           >200\n",
       "1                  200           >200\n",
       "2                  200           >200\n",
       "3                  200           >200\n",
       "4                  200           >200\n",
       "..                 ...            ...\n",
       "270                200           >200\n",
       "271                 45           <=50\n",
       "272                200           >200\n",
       "273                 57           <=75\n",
       "274                 25           <=25\n",
       "\n",
       "[275 rows x 2 columns]"
      ]
     },
     "execution_count": 85,
     "metadata": {},
     "output_type": "execute_result"
    }
   ],
   "source": [
    "job_data[['applicationsCount', 'Num_Applicants']]"
   ]
  },
  {
   "cell_type": "code",
   "execution_count": null,
   "id": "8b2a95e0-01d6-4cce-81d3-bd42b1ec7c52",
   "metadata": {},
   "outputs": [],
   "source": []
  }
 ],
 "metadata": {
  "kernelspec": {
   "display_name": "Python 3 (ipykernel)",
   "language": "python",
   "name": "python3"
  },
  "language_info": {
   "codemirror_mode": {
    "name": "ipython",
    "version": 3
   },
   "file_extension": ".py",
   "mimetype": "text/x-python",
   "name": "python",
   "nbconvert_exporter": "python",
   "pygments_lexer": "ipython3",
   "version": "3.11.5"
  }
 },
 "nbformat": 4,
 "nbformat_minor": 5
}
